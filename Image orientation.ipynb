{
 "cells": [
  {
   "cell_type": "markdown",
   "metadata": {},
   "source": [
    "# Image orientation"
   ]
  },
  {
   "cell_type": "markdown",
   "metadata": {},
   "source": [
    "### Opening the dataset and creating the attribute array"
   ]
  },
  {
   "cell_type": "code",
   "execution_count": 14,
   "metadata": {},
   "outputs": [],
   "source": [
    "import numpy as np \n",
    "import pandas as pd\n",
    "import matplotlib.pyplot as plt\n",
    "import os \n",
    "import cv2\n",
    "\n",
    "data_train = pd.read_csv('train.truth.csv')\n",
    "imgs = data_train.fn\n",
    "X_train = []\n",
    "path = \"C:/Users/Vinicius/Desktop/Deepersystems/train\"\n",
    "\n",
    "def create_X_train():\n",
    "    for img in imgs:\n",
    "        img_array = cv2.imread(os.path.join(path,img), cv2.IMREAD_GRAYSCALE)\n",
    "        X_train.append([img_array])\n",
    "            \n",
    "create_X_train() "
   ]
  },
  {
   "cell_type": "markdown",
   "metadata": {},
   "source": [
    "###  Coding the output vector"
   ]
  },
  {
   "cell_type": "code",
   "execution_count": 21,
   "metadata": {},
   "outputs": [],
   "source": [
    "from sklearn.preprocessing import LabelEncoder\n",
    "label_encoder = LabelEncoder()\n",
    "y_train = data_train.label\n",
    "set(y_train)\n",
    "y_train = label_encoder.fit_transform(y_train)"
   ]
  },
  {
   "cell_type": "code",
   "execution_count": 23,
   "metadata": {},
   "outputs": [],
   "source": [
    "IMG_SIZE = 64\n",
    "X_train = np.array(X_train).reshape(-1, IMG_SIZE, IMG_SIZE, 1)\n",
    "X_train = X_train/255.0"
   ]
  },
  {
   "cell_type": "markdown",
   "metadata": {},
   "source": [
    "### Testing CNN"
   ]
  },
  {
   "cell_type": "code",
   "execution_count": null,
   "metadata": {},
   "outputs": [],
   "source": [
    "import tensorflow as tf\n",
    "from tensorflow.keras.models import Sequential\n",
    "from tensorflow.keras.layers import Dense, Dropout, Activation, Flatten\n",
    "from tensorflow.keras.layers import Conv2D, MaxPooling2D\n",
    "from tensorflow.keras.callbacks import TensorBoard\n",
    "import time\n",
    "\n",
    "dense_layers = [0, 1, 2]\n",
    "layer_sizes = [32, 64, 128]\n",
    "conv_layers = [1, 2, 3]\n",
    "\n",
    "for dense_layer in dense_layers:\n",
    "    for layer_size in layer_sizes:\n",
    "        for conv_layer in conv_layers:\n",
    "            NAME = \"{}-conv-{}-nodes-{}-dense-{}\".format(conv_layer, layer_size, dense_layer, int(time.time()))\n",
    "            tensorboard = TensorBoard(log_dir=\"logs/{}\".format(NAME))\n",
    "            print(NAME)\n",
    "\n",
    "            model = Sequential()\n",
    "\n",
    "            model.add(Conv2D(256, (3, 3), input_shape=X_train.shape[1:]))\n",
    "            model.add(Activation('relu'))\n",
    "            model.add(MaxPooling2D(pool_size=(2, 2)))\n",
    "\n",
    "            for l in range(conv_layer-1):\n",
    "                model.add(Conv2D(256, (3, 3)))\n",
    "                model.add(Activation('relu'))\n",
    "                model.add(MaxPooling2D(pool_size=(2, 2)))\n",
    "\n",
    "            model.add(Flatten())  # this converts our 3D feature maps to 1D feature vectors\n",
    "\n",
    "            for _ in range(dense_layer):\n",
    "                model.add(Dense(layer_size))\n",
    "                model.add(Activation('relu'))\n",
    "                model.add(Dropout(0.2))\n",
    " \n",
    "\n",
    "            model.add(Dense(1))\n",
    "        model.add(Activation('sigmoid'))\n",
    "\n",
    "            model.compile(loss='binary_crossentropy',\n",
    "                          optimizer='adam',\n",
    "                            metrics=['accuracy'],\n",
    "                          )\n",
    "\n",
    "            model.fit(X_train, y_train,\n",
    "                      batch_size=64,\n",
    "                      epochs=3,\n",
    "                      validation_split=0.3, callbacks=[tensorboard])"
   ]
  },
  {
   "cell_type": "markdown",
   "metadata": {},
   "source": [
    "### Testing NN"
   ]
  },
  {
   "cell_type": "code",
   "execution_count": null,
   "metadata": {},
   "outputs": [],
   "source": [
    "import tensorflow as tf\n",
    "from tensorflow.keras.models import Sequential\n",
    "from tensorflow.keras.layers import Dense, Dropout, Activation, Flatten\n",
    "from tensorflow.keras.layers import Conv2D, MaxPooling2D\n",
    "from tensorflow.keras.callbacks import TensorBoard\n",
    "import time\n",
    "\n",
    "dense_layers = [0,1,2,3,4]\n",
    "layer_sizes = [32,64,128,512]\n",
    "\n",
    "for dense_layer in dense_layers:\n",
    "    for layer_size in layer_sizes:\n",
    "        NAME = \"{}-nodes-{}-dense-{}\".format(layer_size, dense_layer, int(time.time()))\n",
    "        tensorboard = TensorBoard(log_dir=\"logs/{}\".format(NAME))\n",
    "        print(NAME)\n",
    "        \n",
    "        model = tf.keras.models.Sequential()\n",
    "        \n",
    "        model.add(tf.keras.layers.Flatten())\n",
    "\n",
    "        for _ in range(dense_layer):\n",
    "            model.add(tf.keras.layers.Dense(layer_size, activation = tf.nn.relu))\n",
    "\n",
    "        model.add(tf.keras.layers.Dense(4, activation = tf.nn.softmax))\n",
    "\n",
    "        tensorboard = TensorBoard(log_dir=\"logs/{}\".format(NAME))\n",
    "\n",
    "        model.compile(optimizer='adam',\n",
    "                     loss='sparse_categorical_crossentropy',\n",
    "                     metrics=['accuracy'])\n",
    "\n",
    "        model.fit(X_train,y_train,epochs=10, validation_split=0.3, callbacks=[tensorboard])"
   ]
  },
  {
   "cell_type": "markdown",
   "metadata": {},
   "source": [
    "### The best setting"
   ]
  },
  {
   "cell_type": "code",
   "execution_count": 9,
   "metadata": {},
   "outputs": [
    {
     "name": "stdout",
     "output_type": "stream",
     "text": [
      "512-nodes-2-dense-1564493926\n",
      "Train on 34227 samples, validate on 14669 samples\n",
      "Epoch 1/10\n",
      "34227/34227 [==============================] - 579s 17ms/sample - loss: 0.8011 - acc: 0.6862 - val_loss: 0.6449 - val_acc: 0.7511\n",
      "Epoch 2/10\n",
      "34227/34227 [==============================] - 358s 10ms/sample - loss: 0.6006 - acc: 0.7668 - val_loss: 0.5779 - val_acc: 0.7694\n",
      "Epoch 3/10\n",
      "34227/34227 [==============================] - 97s 3ms/sample - loss: 0.5393 - acc: 0.7941 - val_loss: 0.5698 - val_acc: 0.7774\n",
      "Epoch 4/10\n",
      "34227/34227 [==============================] - 86s 3ms/sample - loss: 0.5040 - acc: 0.8078 - val_loss: 0.5535 - val_acc: 0.7889\n",
      "Epoch 5/10\n",
      "34227/34227 [==============================] - 84s 2ms/sample - loss: 0.4772 - acc: 0.8176 - val_loss: 0.5119 - val_acc: 0.8043\n",
      "Epoch 6/10\n",
      "34227/34227 [==============================] - 105s 3ms/sample - loss: 0.4620 - acc: 0.8244 - val_loss: 0.6069 - val_acc: 0.7736\n",
      "Epoch 7/10\n",
      "34227/34227 [==============================] - 101s 3ms/sample - loss: 0.4417 - acc: 0.8297 - val_loss: 0.5528 - val_acc: 0.7947\n",
      "Epoch 8/10\n",
      "34227/34227 [==============================] - 102s 3ms/sample - loss: 0.4244 - acc: 0.8376 - val_loss: 0.5097 - val_acc: 0.8092\n",
      "Epoch 9/10\n",
      "34227/34227 [==============================] - 91s 3ms/sample - loss: 0.4082 - acc: 0.8454 - val_loss: 0.5139 - val_acc: 0.8107\n",
      "Epoch 10/10\n",
      "34227/34227 [==============================] - 333s 10ms/sample - loss: 0.3977 - acc: 0.8466 - val_loss: 0.5315 - val_acc: 0.8039\n"
     ]
    }
   ],
   "source": [
    "dense_layers = [2]\n",
    "layer_sizes = [512]\n",
    "\n",
    "for dense_layer in dense_layers:\n",
    "    for layer_size in layer_sizes:\n",
    "        NAME = \"{}-nodes-{}-dense-{}\".format(layer_size, dense_layer, int(time.time()))\n",
    "        tensorboard = TensorBoard(log_dir=\"logs/{}\".format(NAME))\n",
    "        print(NAME)\n",
    "        \n",
    "        model = tf.keras.models.Sequential()\n",
    "        \n",
    "        model.add(tf.keras.layers.Flatten())\n",
    "\n",
    "        for _ in range(dense_layer):\n",
    "            model.add(tf.keras.layers.Dense(layer_size, activation = tf.nn.relu))\n",
    "\n",
    "        model.add(tf.keras.layers.Dense(4, activation = tf.nn.softmax))\n",
    "\n",
    "        tensorboard = TensorBoard(log_dir=\"logs/{}\".format(NAME))\n",
    "\n",
    "        model.compile(optimizer='adam',\n",
    "                     loss='sparse_categorical_crossentropy',\n",
    "                     metrics=['accuracy'])\n",
    "\n",
    "        model.fit(X_train,y_train,epochs=10, validation_split=0.3, callbacks=[tensorboard])\n",
    "\n",
    "model.save('2x512-NN.model')"
   ]
  },
  {
   "cell_type": "code",
   "execution_count": 27,
   "metadata": {},
   "outputs": [
    {
     "name": "stdout",
     "output_type": "stream",
     "text": [
      "WARNING:tensorflow:From c:\\users\\vinicius\\appdata\\local\\programs\\python\\python36\\lib\\site-packages\\tensorflow\\python\\ops\\resource_variable_ops.py:435: colocate_with (from tensorflow.python.framework.ops) is deprecated and will be removed in a future version.\n",
      "Instructions for updating:\n",
      "Colocations handled automatically by placer.\n",
      "WARNING:tensorflow:Sequential models without an `input_shape` passed to the first layer cannot reload their optimizer state. As a result, your model isstarting with a freshly initialized optimizer.\n"
     ]
    }
   ],
   "source": [
    "import tensorflow as tf\n",
    "model = tf.keras.models.load_model('2x512-NN.model')\n",
    "path2 = \"C:/Users/Vinicius/Desktop/Deepersystems/test\"\n",
    "IMG_SIZE = 64\n",
    "data_test = []\n",
    "predictions = []\n",
    "\n",
    "def create_data_test():\n",
    "    for img in os.listdir(path2):\n",
    "        img_array = cv2.imread(os.path.join(path2,img), cv2.IMREAD_GRAYSCALE)\n",
    "        new_array = np.array(img_array).reshape(-1, IMG_SIZE, IMG_SIZE, 1)\n",
    "        data_test.append([img, np.argmax(model.predict(new_array))])\n",
    "            \n",
    "create_data_test() "
   ]
  },
  {
   "cell_type": "code",
   "execution_count": 31,
   "metadata": {},
   "outputs": [],
   "source": [
    "df = pd.DataFrame(np.array(data_test).reshape(5361,2), columns = ['fn', 'label'])"
   ]
  },
  {
   "cell_type": "code",
   "execution_count": 33,
   "metadata": {},
   "outputs": [],
   "source": [
    "df.label = np.where(df.label=='0','rotated_left', df.label)\n",
    "df.label = np.where(df.label=='1','rotated_right', df.label)\n",
    "df.label = np.where(df.label=='2','upright', df.label)\n",
    "df.label = np.where(df.label=='3','upside_down', df.label)"
   ]
  },
  {
   "cell_type": "markdown",
   "metadata": {},
   "source": [
    "### Creating csv file"
   ]
  },
  {
   "cell_type": "code",
   "execution_count": null,
   "metadata": {},
   "outputs": [],
   "source": [
    "df.to_csv(r'C:\\Users\\Vinicius\\Desktop\\Deepersystems\\preds.csv')"
   ]
  },
  {
   "cell_type": "markdown",
   "metadata": {},
   "source": [
    "### Rotating and saving the right images"
   ]
  },
  {
   "cell_type": "code",
   "execution_count": 90,
   "metadata": {},
   "outputs": [],
   "source": [
    "X_test_correct = []\n",
    "path3 = \"C:/Users/Vinicius/Desktop/Deepersystems/corrected_images\"\n",
    "\n",
    "for index in df.index:\n",
    "    img_array = cv2.imread(os.path.join(path2,df.fn[index]))\n",
    "    name_jpg = df.fn[index]\n",
    "    name_png = name_jpg[0:-3]+'PNG'\n",
    "    if df.label[index] == 'rotated_left':\n",
    "        new_img = rotateImage(cv2.imread(os.path.join(path2,df.fn[index])), 270)\n",
    "        cv2.imwrite(os.path.join(path3,name_png),new_img)\n",
    "        X_test_correct.append(new_img)\n",
    "    if df.label[index] == 'rotated_right':\n",
    "        new_img = rotateImage(cv2.imread(os.path.join(path2,df.fn[index])), 90)\n",
    "        cv2.imwrite(os.path.join(path3,name_png),new_img)\n",
    "        X_test_correct.append(new_img)\n",
    "    if df.label[index] == 'upright':\n",
    "        cv2.imwrite(os.path.join(path3,name_png),img_array)\n",
    "        X_test_correct.append(img_array)\n",
    "    if df.label[index] == 'upside_down':\n",
    "        new_img = rotateImage(cv2.imread(os.path.join(path2,df.fn[index])), 180)\n",
    "        cv2.imwrite(os.path.join(path3,name_png),new_img)\n",
    "        X_test_correct.append(new_img)"
   ]
  },
  {
   "cell_type": "markdown",
   "metadata": {},
   "source": [
    "### Image rotate function"
   ]
  },
  {
   "cell_type": "code",
   "execution_count": 10,
   "metadata": {},
   "outputs": [],
   "source": [
    "def rotateImage(image, angle):\n",
    "    image_center = tuple(np.array(image.shape[1::-1]) / 2)\n",
    "    rot_mat = cv2.getRotationMatrix2D(image_center, angle, 1.0)\n",
    "    result = cv2.warpAffine(image, rot_mat, image.shape[1::-1], flags=cv2.INTER_LINEAR)\n",
    "    return result"
   ]
  },
  {
   "cell_type": "markdown",
   "metadata": {},
   "source": [
    "### Saving the numpy array (5361, 64, 64, 3)"
   ]
  },
  {
   "cell_type": "code",
   "execution_count": 93,
   "metadata": {},
   "outputs": [],
   "source": [
    "import pickle\n",
    "X_test_correct = np.array(X_test_correct)\n",
    "pickle_out = open(\"X_test_correct.pickle\", \"wb\")\n",
    "pickle.dump(X_test_correct, pickle_out)\n",
    "pickle_out.close()"
   ]
  },
  {
   "cell_type": "code",
   "execution_count": 92,
   "metadata": {},
   "outputs": [
    {
     "data": {
      "text/html": [
       "<style>\n",
       "    @font-face {\n",
       "        font-family: \"Computer Modern\";\n",
       "        src: url('http://mirrors.ctan.org/fonts/cm-unicode/fonts/otf/cmunss.otf');\n",
       "    }\n",
       "    div.cell{\n",
       "        width: 90%;\n",
       "/*        margin-left:auto;*/\n",
       "/*        margin-right:auto;*/\n",
       "    }\n",
       "    ul {\n",
       "        line-height: 145%;\n",
       "        font-size: 90%;\n",
       "    }\n",
       "    li {\n",
       "        margin-bottom: 1em;\n",
       "    }\n",
       "    h1 {\n",
       "        font-family: Helvetica, serif;\n",
       "    }\n",
       "    h4{\n",
       "        margin-top: 12px;\n",
       "        margin-bottom: 3px;\n",
       "       }\n",
       "    div.text_cell_render{\n",
       "        font-family: Computer Modern, \"Helvetica Neue\", Arial, Helvetica, Geneva, sans-serif;\n",
       "        line-height: 145%;\n",
       "        font-size: 130%;\n",
       "        width: 90%;\n",
       "        margin-left:auto;\n",
       "        margin-right:auto;\n",
       "    }\n",
       "    .CodeMirror{\n",
       "            font-family: \"Source Code Pro\", source-code-pro,Consolas, monospace;\n",
       "    }\n",
       "/*    .prompt{\n",
       "        display: None;\n",
       "    }*/\n",
       "    .text_cell_render h5 {\n",
       "        font-weight: 300;\n",
       "        font-size: 16pt;\n",
       "        color: #4057A1;\n",
       "        font-style: italic;\n",
       "        margin-bottom: 0.5em;\n",
       "        margin-top: 0.5em;\n",
       "        display: block;\n",
       "    }\n",
       "\n",
       "    .warning{\n",
       "        color: rgb( 240, 20, 20 )\n",
       "        }\n",
       "</style>\n",
       "<script>\n",
       "    MathJax.Hub.Config({\n",
       "                        TeX: {\n",
       "                           extensions: [\"AMSmath.js\"]\n",
       "                           },\n",
       "                tex2jax: {\n",
       "                    inlineMath: [ ['$','$'], [\"\\\\(\",\"\\\\)\"] ],\n",
       "                    displayMath: [ ['$$','$$'], [\"\\\\[\",\"\\\\]\"] ]\n",
       "                },\n",
       "                displayAlign: 'center', // Change this to 'center' to center equations.\n",
       "                \"HTML-CSS\": {\n",
       "                    styles: {'.MathJax_Display': {\"margin\": 4}}\n",
       "                }\n",
       "        });\n",
       "</script>"
      ],
      "text/plain": [
       "<IPython.core.display.HTML object>"
      ]
     },
     "execution_count": 92,
     "metadata": {},
     "output_type": "execute_result"
    }
   ],
   "source": [
    "from IPython.core.display import HTML\n",
    "def css_styling():\n",
    "    styles = open(\"styles/custom.css\", \"r\").read()\n",
    "    return HTML(styles)\n",
    "css_styling()"
   ]
  }
 ],
 "metadata": {
  "kernelspec": {
   "display_name": "Python 3",
   "language": "python",
   "name": "python3"
  },
  "language_info": {
   "codemirror_mode": {
    "name": "ipython",
    "version": 3
   },
   "file_extension": ".py",
   "mimetype": "text/x-python",
   "name": "python",
   "nbconvert_exporter": "python",
   "pygments_lexer": "ipython3",
   "version": "3.6.5"
  }
 },
 "nbformat": 4,
 "nbformat_minor": 2
}
